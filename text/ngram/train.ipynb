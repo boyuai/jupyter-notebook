{
 "cells": [
  {
   "cell_type": "code",
   "execution_count": null,
   "metadata": {},
   "outputs": [],
   "source": [
    "PLACEHOLDER_CORPUS_FILE_PATH = \"../../datasets/santi.txt\"\n",
    "PLACEHOLDER_MODEL_FILE_PATH = \"../models/ngram_santi.pkl\"\n",
    "PLACEHOLDER_SPLIT_MODE = \"jieba\"\n",
    "PLACEHOLDER_NGRAM_LEN = 4"
   ]
  },
  {
   "cell_type": "code",
   "execution_count": null,
   "metadata": {},
   "outputs": [],
   "source": [
    "## Init\n",
    "import random\n",
    "import pickle\n",
    "import jieba\n",
    "\n",
    "corpus_file = open(PLACEHOLDER_CORPUS_FILE_PATH, \"r\", encoding=\"utf-8\")\n",
    "raw_text = corpus_file.readlines()\n",
    "text = \"\"\n",
    "for line in raw_text:\n",
    "    text += line.strip()\n",
    "corpus_file.close()"
   ]
  },
  {
   "cell_type": "code",
   "execution_count": null,
   "metadata": {},
   "outputs": [],
   "source": [
    "## Model Config\n",
    "\n",
    "# 选择分词或者是分字\n",
    "split_mode = PLACEHOLDER_SPLIT_MODE\n",
    "if split_mode == \"char\":\n",
    "    token_list = [char for char in text]\n",
    "# 利用jieba库分词\n",
    "elif split_mode == \"jieba\":\n",
    "    token_list = [word for word in jieba.cut(text)]\n",
    "# 确定ngram的历史检索长度，即n\n",
    "ngram_len = PLACEHOLDER_NGRAM_LEN"
   ]
  },
  {
   "cell_type": "code",
   "execution_count": null,
   "metadata": {},
   "outputs": [],
   "source": [
    "## Run\n",
    "\n",
    "# 初始化ngram词典\n",
    "ngram_dict = {}\n",
    "for i in range(1, ngram_len): # i = 1 2 3\n",
    "    for j in range(len(token_list) - i - 1):\n",
    "        # 以前n-1个词为键，第n个词为值，统计映射次数\n",
    "        key = \"\".join(token_list[j: j + i + 1])\n",
    "        value = \"\".join(token_list[j + i + 1])\n",
    "        # 为第一次出现的键建立字典\n",
    "        if key not in ngram_dict:\n",
    "            ngram_dict[key] = {}\n",
    "        # 初始化字典内每个键值对映射的计数器\n",
    "        if value not in ngram_dict[key]:\n",
    "            ngram_dict[key][value] = 0\n",
    "        ngram_dict[key][value] += 1\n",
    "\n",
    "with open(PLACEHOLDER_MODEL_FILE_PATH, 'wb') as f:\n",
    "    pickle.dump({\n",
    "        \"ngram_dict\": ngram_dict,\n",
    "        \"ngram_len\": ngram_len,\n",
    "        \"token_list\": token_list,\n",
    "        \"split_mode\": split_mode\n",
    "    }, f)"
   ]
  }
 ],
 "metadata": {
  "kernelspec": {
   "display_name": "Python 3",
   "language": "python",
   "name": "python3"
  },
  "language_info": {
   "codemirror_mode": {
    "name": "ipython",
    "version": 3
   },
   "file_extension": ".py",
   "mimetype": "text/x-python",
   "name": "python",
   "nbconvert_exporter": "python",
   "pygments_lexer": "ipython3",
   "version": "3.6.9"
  }
 },
 "nbformat": 4,
 "nbformat_minor": 2
}
