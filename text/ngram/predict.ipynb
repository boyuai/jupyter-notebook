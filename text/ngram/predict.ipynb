{
 "cells": [
  {
   "cell_type": "code",
   "execution_count": null,
   "metadata": {},
   "outputs": [],
   "source": [
    "PLACEHOLDER_MODEL_FILE_PATH = \"../models/ngram_santi.pkl\""
   ]
  },
  {
   "cell_type": "code",
   "execution_count": null,
   "metadata": {},
   "outputs": [],
   "source": [
    "## Init\n",
    "import random\n",
    "import pickle\n",
    "import jieba\n",
    "with open(PLACEHOLDER_MODEL_FILE_PATH, 'rb') as f:\n",
    "    tmp = pickle.load(f)\n",
    "    ngram_dict = tmp[\"ngram_dict\"]\n",
    "    ngram_len = tmp[\"ngram_len\"]\n",
    "    split_mode = tmp[\"split_mode\"]\n",
    "    token_list = tmp[\"token_list\"]"
   ]
  },
  {
   "cell_type": "code",
   "execution_count": null,
   "metadata": {},
   "outputs": [],
   "source": [
    "PLACEHOLDER_START_TEXT = \"今天我看到了一个很奇怪的亮光\"\n",
    "PLACEHOLDER_GEN_LEN = 200\n",
    "PLACEHOLDER_TOPN = 5"
   ]
  },
  {
   "cell_type": "code",
   "execution_count": null,
   "metadata": {},
   "outputs": [],
   "source": [
    "## Run\n",
    "# 对输入进行分字或分词\n",
    "start_text = PLACEHOLDER_START_TEXT\n",
    "gen_len = PLACEHOLDER_GEN_LEN\n",
    "topn = PLACEHOLDER_TOPN\n",
    "\n",
    "if split_mode == \"char\":\n",
    "    word_list = [char for char in start_text]\n",
    "elif split_mode == \"jieba\":\n",
    "    word_list = [word for word in jieba.cut(start_text)]\n",
    "\n",
    "# gen_len是我们期望的生成字数或词数\n",
    "for i in range(gen_len):\n",
    "    temp_list = []\n",
    "    # 统计给定前小于等于n-1个词的情况下，下一个词的词频分布\n",
    "    for j in range(1, ngram_len):\n",
    "        if j >= len(word_list):\n",
    "            continue\n",
    "        prefix = \"\".join(word_list[-(j + 1):])\n",
    "        if prefix in ngram_dict:\n",
    "            temp_list.extend(ngram_dict[prefix].items())\n",
    "    # 按词频对词排序\n",
    "    temp_list = sorted(temp_list, key=lambda d: d[1], reverse=True)\n",
    "    next_word = ''\n",
    "    if len(temp_list) == 0:\n",
    "        next_word = token_list[random.randint(0, len(token_list))]\n",
    "    elif temp_list[0] == '，' or temp_list[0] == '。' or temp_list[0] == '\\n':\n",
    "        # 如果最高频词是标点，则选择最高频词\n",
    "        next_word = temp_list[0]\n",
    "    else:\n",
    "    # 否则从前topn中随机选一个\n",
    "        next_word = random.choice(sorted(temp_list, key=lambda d: d[1], reverse=True)[:topn])[0]\n",
    "    word_list.append(next_word)\n",
    "   \n",
    "print(\"\".join(word_list))"
   ]
  }
 ],
 "metadata": {
  "kernelspec": {
   "display_name": "Python 3",
   "language": "python",
   "name": "python3"
  },
  "language_info": {
   "codemirror_mode": {
    "name": "ipython",
    "version": 3
   },
   "file_extension": ".py",
   "mimetype": "text/x-python",
   "name": "python",
   "nbconvert_exporter": "python",
   "pygments_lexer": "ipython3",
   "version": "3.6.9"
  }
 },
 "nbformat": 4,
 "nbformat_minor": 2
}
