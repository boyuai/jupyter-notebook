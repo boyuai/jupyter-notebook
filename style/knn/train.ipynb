{
 "cells": [
  {
   "cell_type": "code",
   "execution_count": null,
   "metadata": {},
   "outputs": [],
   "source": [
    "## Init\n",
    "import urllib.request\n",
    "import io\n",
    "\n",
    "import numpy as np\n",
    "from PIL import Image\n",
    "\n",
    "import numpy as np\n",
    "from skimage.color import rgb2lab, lab2rgb\n",
    "from sklearn.neighbors import KNeighborsRegressor\n",
    "\n",
    "from joblib import dump\n",
    "\n",
    "\n",
    "def load_image_online(filename):\n",
    "    with urllib.request.urlopen(filename) as url:\n",
    "        f = io.BytesIO(url.read())\n",
    "    image = Image.open(f).convert(\"RGB\")\n",
    "    return image\n",
    "\n",
    "def read_style_image(file_name, size):\n",
    "    img = rgb2lab(load_image_online(file_name))\n",
    "    w, h = img.shape[:2]\n",
    "    X = []\n",
    "    Y = []\n",
    "    for x in range(size, w - size):\n",
    "        for y in range(size, h - size):\n",
    "            X.append(img[x - size : x + size + 1, y - size : y + size + 1, 0].reshape(-1))\n",
    "            Y.append(img[x, y, 1:])\n",
    "    return X, Y\n",
    "\n",
    "def create_dataset(files, size):\n",
    "    X = []\n",
    "    Y = []\n",
    "    n = 0\n",
    "    for file in files:\n",
    "        print(\"reading\", file)\n",
    "        X0, Y0 = read_style_image(file, size)\n",
    "        X.extend(X0)\n",
    "        Y.extend(Y0)\n",
    "    return X, Y"
   ]
  },
  {
   "cell_type": "code",
   "execution_count": null,
   "metadata": {},
   "outputs": [],
   "source": [
    "PLACEHOLDER_K_NEIGHBORS = 3\n",
    "PLACEHOLDER_BLOCK_SIZE = 1\n",
    "PLACEHOLDER_MODEL_SAVE_PATH = \"../models/knn.joblib\"\n",
    "PLACEHOLDER_STYLE_PATHS = [\"https://uploads7.wikiart.org/images/giorgio-de-chirico/hector-and-andromache-1912.jpg!Large.jpg\"]"
   ]
  },
  {
   "cell_type": "code",
   "execution_count": null,
   "metadata": {},
   "outputs": [],
   "source": [
    "## Model Config\n",
    "K = PLACEHOLDER_K_NEIGHBORS\n",
    "SIZE = PLACEHOLDER_BLOCK_SIZE"
   ]
  },
  {
   "cell_type": "code",
   "execution_count": null,
   "metadata": {},
   "outputs": [],
   "source": [
    "## Run\n",
    "\n",
    "X, Y = create_dataset(PLACEHOLDER_STYLE_PATHS, SIZE)\n",
    "nbrs = KNeighborsRegressor(n_neighbors = K, weights = 'distance')\n",
    "\n",
    "nbrs.fit(X, Y)\n",
    "\n",
    "_ = dump({\n",
    "    \"nbrs\": nbrs,\n",
    "    \"K\": K,\n",
    "    \"SIZE\": SIZE,\n",
    "}, PLACEHOLDER_MODEL_SAVE_PATH)"
   ]
  }
 ],
 "metadata": {
  "kernelspec": {
   "display_name": "Python 3",
   "language": "python",
   "name": "python3"
  },
  "language_info": {
   "codemirror_mode": {
    "name": "ipython",
    "version": 3
   },
   "file_extension": ".py",
   "mimetype": "text/x-python",
   "name": "python",
   "nbconvert_exporter": "python",
   "pygments_lexer": "ipython3",
   "version": "3.6.9"
  }
 },
 "nbformat": 4,
 "nbformat_minor": 2
}
