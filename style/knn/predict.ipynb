{
 "cells": [
  {
   "cell_type": "code",
   "execution_count": null,
   "metadata": {},
   "outputs": [],
   "source": [
    "PLACEHOLDER_MODEL_PATH = \"../models/knn.joblib\""
   ]
  },
  {
   "cell_type": "code",
   "execution_count": null,
   "metadata": {},
   "outputs": [],
   "source": [
    "## Init\n",
    "%matplotlib inline\n",
    "import matplotlib.pyplot as plt\n",
    "\n",
    "import urllib.request\n",
    "import io\n",
    "\n",
    "import numpy as np\n",
    "from PIL import Image\n",
    "\n",
    "import numpy as np\n",
    "from skimage.color import rgb2lab, lab2rgb\n",
    "\n",
    "from joblib import load\n",
    "from IPython.display import display\n",
    "from keras.preprocessing.image import array_to_img\n",
    "\n",
    "def load_image_online(filename, image_size = None):\n",
    "    with urllib.request.urlopen(filename) as url:\n",
    "        f = io.BytesIO(url.read())\n",
    "    image = Image.open(f).convert(\"RGB\")\n",
    "    if image_size is not None:\n",
    "        w, h = image.size\n",
    "        image = image.resize((image_size, image_size * h // w))\n",
    "    return image\n",
    "\n",
    "def split_origin_image(img, size):\n",
    "    w, h = img.shape[:2]\n",
    "    X = np.zeros((w - size*2, h - size*2, (2*size+1)**2))\n",
    "    for x in range(size, w - size):\n",
    "        for y in range(size, h - size):\n",
    "            X[x-size,y-size] = (img[x - size : x + size + 1, y - size : y + size + 1, 0].reshape(-1))\n",
    "    return X\n",
    "\n",
    "tmp = load(PLACEHOLDER_MODEL_PATH)\n",
    "nbrs = tmp[\"nbrs\"]\n",
    "K = tmp[\"K\"]\n",
    "SIZE = tmp[\"SIZE\"]"
   ]
  },
  {
   "cell_type": "code",
   "execution_count": null,
   "metadata": {},
   "outputs": [],
   "source": [
    "PLACEHOLDER_IMAGE_SIZE = 256\n",
    "PLACEHOLDER_CONTENT_PATH = \"http://apex.sjtu.edu.cn/public/files/avatar/20180912/lyk.jpg\"\n",
    "PLACEHOLDER_PLOT_NUM = 20"
   ]
  },
  {
   "cell_type": "code",
   "execution_count": null,
   "metadata": {},
   "outputs": [],
   "source": [
    "## Run\n",
    "\n",
    "img = rgb2lab(load_image_online(PLACEHOLDER_CONTENT_PATH, PLACEHOLDER_IMAGE_SIZE))\n",
    "w, h = img.shape[:2]\n",
    "photo = img\n",
    "X = split_origin_image(img, SIZE)\n",
    "for x in range(SIZE, w - SIZE):\n",
    "    line_predict = nbrs.predict(X[x-SIZE]).reshape(-1, 2)\n",
    "    for y in range(SIZE, h - SIZE):\n",
    "        photo[x, y, 0] = img[x, y, 0]\n",
    "        photo[x, y, 1] = line_predict[y - SIZE, 0]\n",
    "        photo[x, y, 2] = line_predict[y - SIZE, 1]\n",
    "    if x % (w // PLACEHOLDER_PLOT_NUM) == 0:\n",
    "        display(array_to_img(lab2rgb(photo[SIZE : w - SIZE, SIZE : h - SIZE])))\n",
    "        \n",
    "display(array_to_img(lab2rgb(photo[SIZE : w - SIZE, SIZE : h - SIZE])))"
   ]
  }
 ],
 "metadata": {
  "kernelspec": {
   "display_name": "Python 3",
   "language": "python",
   "name": "python3"
  },
  "language_info": {
   "codemirror_mode": {
    "name": "ipython",
    "version": 3
   },
   "file_extension": ".py",
   "mimetype": "text/x-python",
   "name": "python",
   "nbconvert_exporter": "python",
   "pygments_lexer": "ipython3",
   "version": "3.6.9"
  }
 },
 "nbformat": 4,
 "nbformat_minor": 2
}
