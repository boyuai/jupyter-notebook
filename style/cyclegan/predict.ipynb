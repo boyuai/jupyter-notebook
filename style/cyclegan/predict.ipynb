{
 "cells": [
  {
   "cell_type": "code",
   "execution_count": null,
   "metadata": {},
   "outputs": [],
   "source": [
    "## Init\n",
    "%matplotlib inline\n",
    "import matplotlib.pyplot as plt\n",
    "\n",
    "import urllib.request\n",
    "import io\n",
    "from PIL import Image\n",
    "\n",
    "import keras.backend as K\n",
    "from keras.models import load_model\n",
    "import numpy as np\n",
    "\n",
    "def load_image_online(filename):\n",
    "    with urllib.request.urlopen(filename) as url:\n",
    "        f = io.BytesIO(url.read())\n",
    "    image = Image.open(f).convert(\"RGB\")\n",
    "    return image\n",
    "\n",
    "def load_image(fn, image_size):\n",
    "    im = load_image_online(fn)\n",
    "    if (im.size[0] >= im.size[1]):\n",
    "        im = im.crop(((im.size[0] - im.size[1])//2, 0, (im.size[0] + im.size[1])//2, im.size[1]))\n",
    "    else:\n",
    "        im = im.crop((0, (im.size[1] - im.size[0])//2, im.size[0], (im.size[0] + im.size[1])//2))\n",
    "    im = im.resize((image_size, image_size), Image.BILINEAR)\n",
    "    arr = np.array(im)/255*2-1   \n",
    "    return arr\n",
    "\n",
    "def arr2image(X):\n",
    "    int_X = ((X+1)/2*255).clip(0,255).astype('uint8')\n",
    "    return Image.fromarray(int_X)\n",
    "\n",
    "def generate(img, fn):\n",
    "    r = fn([np.array([img])])[0]\n",
    "    return arr2image(np.array(r[0]))\n",
    "\n",
    "last_load_model_path = None"
   ]
  },
  {
   "cell_type": "code",
   "execution_count": null,
   "metadata": {},
   "outputs": [],
   "source": [
    "PLACEHOLDER_IMAGE_SIZE = 256\n",
    "PLACEHOLDER_IMAGE_PATH = \"http://apex.sjtu.edu.cn/public/files/avatar/20180912/lyk.jpg\"\n",
    "PLACEHOLDER_MODEL_PATH = \"../models/VanGogh-GA.h5\""
   ]
  },
  {
   "cell_type": "code",
   "execution_count": null,
   "metadata": {},
   "outputs": [],
   "source": [
    "## Run\n",
    "\n",
    "if last_load_model_path != PLACEHOLDER_MODEL_PATH:\n",
    "    model = load_model(PLACEHOLDER_MODEL_PATH)\n",
    "    last_load_model_path = PLACEHOLDER_MODEL_PATH\n",
    "    \n",
    "fn_generate = K.function([model.inputs[0]],[model.outputs[0]])\n",
    "input_img = load_image(PLACEHOLDER_IMAGE_PATH, PLACEHOLDER_IMAGE_SIZE)\n",
    "out = generate(input_img, fn_generate)\n",
    "\n",
    "plt.imshow(out)\n",
    "plt.axis(\"off\")\n",
    "plt.show()"
   ]
  }
 ],
 "metadata": {
  "kernelspec": {
   "display_name": "Python 3",
   "language": "python",
   "name": "python3"
  },
  "language_info": {
   "codemirror_mode": {
    "name": "ipython",
    "version": 3
   },
   "file_extension": ".py",
   "mimetype": "text/x-python",
   "name": "python",
   "nbconvert_exporter": "python",
   "pygments_lexer": "ipython3",
   "version": "3.6.9"
  }
 },
 "nbformat": 4,
 "nbformat_minor": 2
}
