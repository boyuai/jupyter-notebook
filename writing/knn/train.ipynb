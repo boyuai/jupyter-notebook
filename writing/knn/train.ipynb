{
 "cells": [
  {
   "cell_type": "code",
   "execution_count": null,
   "metadata": {},
   "outputs": [],
   "source": [
    "PLACEHOLDER_DATASET_PATH = \"../../datasets/mnist.npz\"\n",
    "PLACEHOLDER_MODEL_SAVE_PATH = \"../models/knn.joblib\"\n",
    "PLACEHOLDER_K = 5\n",
    "PLACEHOLDER_NTRAIN = 10000\n",
    "PLACEHOLDER_NTEST = 100"
   ]
  },
  {
   "cell_type": "code",
   "execution_count": null,
   "metadata": {},
   "outputs": [],
   "source": [
    "## Init\n",
    "import numpy as np\n",
    "from sklearn.neighbors import KNeighborsClassifier\n",
    "from joblib import dump\n",
    "\n",
    "with np.load(PLACEHOLDER_DATASET_PATH, allow_pickle=True) as f:\n",
    "    x_train, y_train = f['x_train'], f['y_train']\n",
    "    x_test, y_test = f['x_test'], f['y_test']\n",
    "\n",
    "x_train = x_train.reshape((x_train.shape[0], -1))\n",
    "x_test = x_test.reshape((x_test.shape[0], -1))"
   ]
  },
  {
   "cell_type": "code",
   "execution_count": null,
   "metadata": {},
   "outputs": [],
   "source": [
    "## Model Config\n",
    "K = PLACEHOLDER_K\n",
    "NTRAIN = PLACEHOLDER_NTRAIN\n",
    "NTEST = PLACEHOLDER_NTEST\n",
    "\n",
    "x_train_sample = x_train[:NTRAIN]\n",
    "y_train_sample = y_train[:NTRAIN]\n",
    "x_test_sample = x_test[:NTEST]\n",
    "y_test_sample = y_test[:NTEST]"
   ]
  },
  {
   "cell_type": "code",
   "execution_count": null,
   "metadata": {},
   "outputs": [],
   "source": [
    "## Run\n",
    "model = KNeighborsClassifier(n_neighbors=K)\n",
    "_ = model.fit(x_train_sample, y_train_sample)\n",
    "print((model.predict(x_test_sample) == y_test_sample).sum() / x_test_sample.shape[0])\n",
    "_ = dump(model, PLACEHOLDER_MODEL_SAVE_PATH)"
   ]
  }
 ],
 "metadata": {
  "kernelspec": {
   "display_name": "Python 3",
   "language": "python",
   "name": "python3"
  },
  "language_info": {
   "codemirror_mode": {
    "name": "ipython",
    "version": 3
   },
   "file_extension": ".py",
   "mimetype": "text/x-python",
   "name": "python",
   "nbconvert_exporter": "python",
   "pygments_lexer": "ipython3",
   "version": "3.7.3"
  }
 },
 "nbformat": 4,
 "nbformat_minor": 2
}
