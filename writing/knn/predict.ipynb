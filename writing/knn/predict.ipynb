{
 "cells": [
  {
   "cell_type": "code",
   "execution_count": null,
   "metadata": {},
   "outputs": [],
   "source": [
    "PLACEHOLDER_DATASET_PATH = \"../datasets/mnist.npz\"\n",
    "PLACEHOLDER_MODEL_PATH = \"knn.joblib\""
   ]
  },
  {
   "cell_type": "code",
   "execution_count": null,
   "metadata": {},
   "outputs": [],
   "source": [
    "## Init\n",
    "%matplotlib inline\n",
    "import matplotlib.pyplot as plt\n",
    "import numpy as np\n",
    "from sklearn.neighbors import KNeighborsClassifier\n",
    "from joblib import load\n",
    "from PIL import Image\n",
    "import urllib.request\n",
    "import io\n",
    "import json\n",
    "\n",
    "DATASET_PATH = PLACEHOLDER_DATASET_PATH\n",
    "with np.load(DATASET_PATH, allow_pickle=True) as f:\n",
    "    x_train, y_train = f['x_train'], f['y_train']\n",
    "    x_test, y_test = f['x_test'], f['y_test']\n",
    "\n",
    "model = load(PLACEHOLDER_MODEL_PATH)"
   ]
  },
  {
   "cell_type": "code",
   "execution_count": null,
   "metadata": {},
   "outputs": [],
   "source": [
    "PLACEHOLDER_IMAGE_URL = \"https://conx.readthedocs.io/en/latest/_images/MNIST_44_0.png\""
   ]
  },
  {
   "cell_type": "code",
   "execution_count": null,
   "metadata": {},
   "outputs": [],
   "source": [
    "## Run\n",
    "with urllib.request.urlopen(PLACEHOLDER_IMAGE_URL) as url:\n",
    "    f = io.BytesIO(url.read())\n",
    "image = Image.open(f).convert(\"L\")\n",
    "image = image.resize((28, 28))\n",
    "image = np.array(image).reshape(1, -1)\n",
    "\n",
    "# probabilities\n",
    "print(json.dumps(model.predict_proba(image)[0].tolist()))\n",
    "\n",
    "size_pixel_ratio = 1/12\n",
    "\n",
    "# plot neighbors\n",
    "for i in model.kneighbors(image)[1][0]:\n",
    "    pixel = 28\n",
    "    height = pixel * size_pixel_ratio\n",
    "    plt.figure(figsize=(height, height))\n",
    "    plt.imshow(x_train[i], cmap=\"gray\")\n",
    "    plt.axis(\"off\")\n",
    "    plt.show()\n",
    "    print(y_train[i])"
   ]
  }
 ],
 "metadata": {
  "kernelspec": {
   "display_name": "Python 3",
   "language": "python",
   "name": "python3"
  },
  "language_info": {
   "codemirror_mode": {
    "name": "ipython",
    "version": 3
   },
   "file_extension": ".py",
   "mimetype": "text/x-python",
   "name": "python",
   "nbconvert_exporter": "python",
   "pygments_lexer": "ipython3",
   "version": "3.6.9"
  }
 },
 "nbformat": 4,
 "nbformat_minor": 2
}
