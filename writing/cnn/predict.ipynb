{
 "cells": [
  {
   "cell_type": "code",
   "execution_count": null,
   "metadata": {},
   "outputs": [],
   "source": [
    "PLACEHOLDER_MODEL_PATH = \"activation.h5\""
   ]
  },
  {
   "cell_type": "code",
   "execution_count": null,
   "metadata": {},
   "outputs": [],
   "source": [
    "## Init\n",
    "%matplotlib inline\n",
    "from keras.models import load_model\n",
    "import matplotlib.pyplot as plt\n",
    "import json\n",
    "model = load_model(PLACEHOLDER_MODEL_PATH)"
   ]
  },
  {
   "cell_type": "code",
   "execution_count": null,
   "metadata": {},
   "outputs": [],
   "source": [
    "PLACEHOLDER_IMAGE_URL = \"https://conx.readthedocs.io/en/latest/_images/MNIST_44_0.png\""
   ]
  },
  {
   "cell_type": "code",
   "execution_count": null,
   "metadata": {},
   "outputs": [],
   "source": [
    "## Run\n",
    "import numpy as np\n",
    "from PIL import Image\n",
    "import urllib.request\n",
    "import io\n",
    "\n",
    "with urllib.request.urlopen(PLACEHOLDER_IMAGE_URL) as url:\n",
    "    f = io.BytesIO(url.read())\n",
    "image = Image.open(f).convert(\"L\")\n",
    "image = image.resize((28, 28))\n",
    "image = np.array(image).reshape(1, 28, 28, 1)\n",
    "image = image / 255\n",
    "\n",
    "res = model.predict(image)\n",
    "\n",
    "# probabilities\n",
    "if isinstance(res, list):\n",
    "    print(json.dumps(res[0][0].tolist()))\n",
    "else:\n",
    "    print(json.dumps(res[0].tolist()))\n",
    "\n",
    "size_pixel_ratio = 1/12\n",
    "\n",
    "# plot original image\n",
    "pixel = image.shape[-2]\n",
    "height = pixel * size_pixel_ratio\n",
    "plt.figure(figsize=(height, height))\n",
    "plt.imshow(image[0][:, :, 0], cmap=\"gray\")\n",
    "plt.axis(\"off\")\n",
    "plt.show()\n",
    "\n",
    "# plot each activation layer\n",
    "if isinstance(res, list):\n",
    "    for layer in res[1:]:\n",
    "        channel = layer.shape[-1]\n",
    "        pixel = layer.shape[-2]\n",
    "        height = pixel * size_pixel_ratio\n",
    "        f, axarr = plt.subplots(1, channel, figsize=(channel*height, height))\n",
    "        for i in range(channel):\n",
    "            axarr[i].imshow(layer[0][:, :, i], cmap=\"gray\")\n",
    "            axarr[i].axis(\"off\")\n",
    "        plt.show()"
   ]
  }
 ],
 "metadata": {
  "kernelspec": {
   "display_name": "Python 3",
   "language": "python",
   "name": "python3"
  },
  "language_info": {
   "codemirror_mode": {
    "name": "ipython",
    "version": 3
   },
   "file_extension": ".py",
   "mimetype": "text/x-python",
   "name": "python",
   "nbconvert_exporter": "python",
   "pygments_lexer": "ipython3",
   "version": "3.6.5"
  }
 },
 "nbformat": 4,
 "nbformat_minor": 2
}
